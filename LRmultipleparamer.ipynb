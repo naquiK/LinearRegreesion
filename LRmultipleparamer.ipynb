{
  "cells": [
    {
      "cell_type": "code",
      "source": [
        "#multilpe parameters\n",
        "import numpy as np\n",
        "import matplotlib.pyplot as plt\n",
        "from sklearn.datasets import make_regression\n",
        "from sklearn.model_selection import train_test_split\n",
        "from sklearn.metrics import mean_squared_error\n",
        "import seaborn as sns\n",
        "import pandas as pd"
      ],
      "metadata": {
        "id": "TqcGxhRr61e4"
      },
      "execution_count": 79,
      "outputs": []
    },
    {
      "cell_type": "code",
      "source": [
        "# Step 1 : generate data\n",
        "\n",
        "X,y = make_regression(n_samples=500,n_features=10,noise=25 , random_state=0)\n",
        "print(X.shape , y.shape)\n",
        "n_features = X.shape[1]"
      ],
      "metadata": {
        "id": "gancua_T7FK8",
        "colab": {
          "base_uri": "https://localhost:8080/"
        },
        "outputId": "fcb407af-6f21-4026-f642-f14f55aa0fdc"
      },
      "execution_count": 80,
      "outputs": [
        {
          "output_type": "stream",
          "name": "stdout",
          "text": [
            "(500, 10) (500,)\n"
          ]
        }
      ]
    },
    {
      "cell_type": "code",
      "source": [
        "pd.DataFrame(X).head()"
      ],
      "metadata": {
        "colab": {
          "base_uri": "https://localhost:8080/",
          "height": 206
        },
        "id": "uitUo9EmWNbE",
        "outputId": "e79e07a0-b991-4f5a-83ad-c51e5d41becf"
      },
      "execution_count": 81,
      "outputs": [
        {
          "output_type": "execute_result",
          "data": {
            "text/plain": [
              "          0         1         2         3         4         5         6  \\\n",
              "0 -1.616956  0.640132 -0.369182 -0.239379 -0.738031 -0.024326  1.099660   \n",
              "1  0.967446 -1.226622 -0.817493 -1.401347 -0.263937 -0.055353  1.030438   \n",
              "2  0.802456 -0.268003  1.867559  0.906045 -0.155010  0.947252 -0.861226   \n",
              "3 -0.977278  1.867558  1.764052  0.400157 -0.151357  0.950088  0.978738   \n",
              "4 -0.171546  0.523277 -1.292857  0.267051  0.823504  0.771791 -0.039283   \n",
              "\n",
              "          7         8         9  \n",
              "0  0.279925 -0.098150  0.655264  \n",
              "1  0.352817 -0.152774 -2.047324  \n",
              "2  0.614079  0.922207  1.910065  \n",
              "3 -0.103219  0.410599  2.240893  \n",
              "4  2.163236  1.336528 -1.168093  "
            ],
            "text/html": [
              "\n",
              "  <div id=\"df-7077b56d-b4eb-48d9-95ff-ad8ab7c22c37\" class=\"colab-df-container\">\n",
              "    <div>\n",
              "<style scoped>\n",
              "    .dataframe tbody tr th:only-of-type {\n",
              "        vertical-align: middle;\n",
              "    }\n",
              "\n",
              "    .dataframe tbody tr th {\n",
              "        vertical-align: top;\n",
              "    }\n",
              "\n",
              "    .dataframe thead th {\n",
              "        text-align: right;\n",
              "    }\n",
              "</style>\n",
              "<table border=\"1\" class=\"dataframe\">\n",
              "  <thead>\n",
              "    <tr style=\"text-align: right;\">\n",
              "      <th></th>\n",
              "      <th>0</th>\n",
              "      <th>1</th>\n",
              "      <th>2</th>\n",
              "      <th>3</th>\n",
              "      <th>4</th>\n",
              "      <th>5</th>\n",
              "      <th>6</th>\n",
              "      <th>7</th>\n",
              "      <th>8</th>\n",
              "      <th>9</th>\n",
              "    </tr>\n",
              "  </thead>\n",
              "  <tbody>\n",
              "    <tr>\n",
              "      <th>0</th>\n",
              "      <td>-1.616956</td>\n",
              "      <td>0.640132</td>\n",
              "      <td>-0.369182</td>\n",
              "      <td>-0.239379</td>\n",
              "      <td>-0.738031</td>\n",
              "      <td>-0.024326</td>\n",
              "      <td>1.099660</td>\n",
              "      <td>0.279925</td>\n",
              "      <td>-0.098150</td>\n",
              "      <td>0.655264</td>\n",
              "    </tr>\n",
              "    <tr>\n",
              "      <th>1</th>\n",
              "      <td>0.967446</td>\n",
              "      <td>-1.226622</td>\n",
              "      <td>-0.817493</td>\n",
              "      <td>-1.401347</td>\n",
              "      <td>-0.263937</td>\n",
              "      <td>-0.055353</td>\n",
              "      <td>1.030438</td>\n",
              "      <td>0.352817</td>\n",
              "      <td>-0.152774</td>\n",
              "      <td>-2.047324</td>\n",
              "    </tr>\n",
              "    <tr>\n",
              "      <th>2</th>\n",
              "      <td>0.802456</td>\n",
              "      <td>-0.268003</td>\n",
              "      <td>1.867559</td>\n",
              "      <td>0.906045</td>\n",
              "      <td>-0.155010</td>\n",
              "      <td>0.947252</td>\n",
              "      <td>-0.861226</td>\n",
              "      <td>0.614079</td>\n",
              "      <td>0.922207</td>\n",
              "      <td>1.910065</td>\n",
              "    </tr>\n",
              "    <tr>\n",
              "      <th>3</th>\n",
              "      <td>-0.977278</td>\n",
              "      <td>1.867558</td>\n",
              "      <td>1.764052</td>\n",
              "      <td>0.400157</td>\n",
              "      <td>-0.151357</td>\n",
              "      <td>0.950088</td>\n",
              "      <td>0.978738</td>\n",
              "      <td>-0.103219</td>\n",
              "      <td>0.410599</td>\n",
              "      <td>2.240893</td>\n",
              "    </tr>\n",
              "    <tr>\n",
              "      <th>4</th>\n",
              "      <td>-0.171546</td>\n",
              "      <td>0.523277</td>\n",
              "      <td>-1.292857</td>\n",
              "      <td>0.267051</td>\n",
              "      <td>0.823504</td>\n",
              "      <td>0.771791</td>\n",
              "      <td>-0.039283</td>\n",
              "      <td>2.163236</td>\n",
              "      <td>1.336528</td>\n",
              "      <td>-1.168093</td>\n",
              "    </tr>\n",
              "  </tbody>\n",
              "</table>\n",
              "</div>\n",
              "    <div class=\"colab-df-buttons\">\n",
              "\n",
              "  <div class=\"colab-df-container\">\n",
              "    <button class=\"colab-df-convert\" onclick=\"convertToInteractive('df-7077b56d-b4eb-48d9-95ff-ad8ab7c22c37')\"\n",
              "            title=\"Convert this dataframe to an interactive table.\"\n",
              "            style=\"display:none;\">\n",
              "\n",
              "  <svg xmlns=\"http://www.w3.org/2000/svg\" height=\"24px\" viewBox=\"0 -960 960 960\">\n",
              "    <path d=\"M120-120v-720h720v720H120Zm60-500h600v-160H180v160Zm220 220h160v-160H400v160Zm0 220h160v-160H400v160ZM180-400h160v-160H180v160Zm440 0h160v-160H620v160ZM180-180h160v-160H180v160Zm440 0h160v-160H620v160Z\"/>\n",
              "  </svg>\n",
              "    </button>\n",
              "\n",
              "  <style>\n",
              "    .colab-df-container {\n",
              "      display:flex;\n",
              "      gap: 12px;\n",
              "    }\n",
              "\n",
              "    .colab-df-convert {\n",
              "      background-color: #E8F0FE;\n",
              "      border: none;\n",
              "      border-radius: 50%;\n",
              "      cursor: pointer;\n",
              "      display: none;\n",
              "      fill: #1967D2;\n",
              "      height: 32px;\n",
              "      padding: 0 0 0 0;\n",
              "      width: 32px;\n",
              "    }\n",
              "\n",
              "    .colab-df-convert:hover {\n",
              "      background-color: #E2EBFA;\n",
              "      box-shadow: 0px 1px 2px rgba(60, 64, 67, 0.3), 0px 1px 3px 1px rgba(60, 64, 67, 0.15);\n",
              "      fill: #174EA6;\n",
              "    }\n",
              "\n",
              "    .colab-df-buttons div {\n",
              "      margin-bottom: 4px;\n",
              "    }\n",
              "\n",
              "    [theme=dark] .colab-df-convert {\n",
              "      background-color: #3B4455;\n",
              "      fill: #D2E3FC;\n",
              "    }\n",
              "\n",
              "    [theme=dark] .colab-df-convert:hover {\n",
              "      background-color: #434B5C;\n",
              "      box-shadow: 0px 1px 3px 1px rgba(0, 0, 0, 0.15);\n",
              "      filter: drop-shadow(0px 1px 2px rgba(0, 0, 0, 0.3));\n",
              "      fill: #FFFFFF;\n",
              "    }\n",
              "  </style>\n",
              "\n",
              "    <script>\n",
              "      const buttonEl =\n",
              "        document.querySelector('#df-7077b56d-b4eb-48d9-95ff-ad8ab7c22c37 button.colab-df-convert');\n",
              "      buttonEl.style.display =\n",
              "        google.colab.kernel.accessAllowed ? 'block' : 'none';\n",
              "\n",
              "      async function convertToInteractive(key) {\n",
              "        const element = document.querySelector('#df-7077b56d-b4eb-48d9-95ff-ad8ab7c22c37');\n",
              "        const dataTable =\n",
              "          await google.colab.kernel.invokeFunction('convertToInteractive',\n",
              "                                                    [key], {});\n",
              "        if (!dataTable) return;\n",
              "\n",
              "        const docLinkHtml = 'Like what you see? Visit the ' +\n",
              "          '<a target=\"_blank\" href=https://colab.research.google.com/notebooks/data_table.ipynb>data table notebook</a>'\n",
              "          + ' to learn more about interactive tables.';\n",
              "        element.innerHTML = '';\n",
              "        dataTable['output_type'] = 'display_data';\n",
              "        await google.colab.output.renderOutput(dataTable, element);\n",
              "        const docLink = document.createElement('div');\n",
              "        docLink.innerHTML = docLinkHtml;\n",
              "        element.appendChild(docLink);\n",
              "      }\n",
              "    </script>\n",
              "  </div>\n",
              "\n",
              "\n",
              "<div id=\"df-4cab66f4-6620-41ed-b794-b91b1d0c2fa9\">\n",
              "  <button class=\"colab-df-quickchart\" onclick=\"quickchart('df-4cab66f4-6620-41ed-b794-b91b1d0c2fa9')\"\n",
              "            title=\"Suggest charts\"\n",
              "            style=\"display:none;\">\n",
              "\n",
              "<svg xmlns=\"http://www.w3.org/2000/svg\" height=\"24px\"viewBox=\"0 0 24 24\"\n",
              "     width=\"24px\">\n",
              "    <g>\n",
              "        <path d=\"M19 3H5c-1.1 0-2 .9-2 2v14c0 1.1.9 2 2 2h14c1.1 0 2-.9 2-2V5c0-1.1-.9-2-2-2zM9 17H7v-7h2v7zm4 0h-2V7h2v10zm4 0h-2v-4h2v4z\"/>\n",
              "    </g>\n",
              "</svg>\n",
              "  </button>\n",
              "\n",
              "<style>\n",
              "  .colab-df-quickchart {\n",
              "      --bg-color: #E8F0FE;\n",
              "      --fill-color: #1967D2;\n",
              "      --hover-bg-color: #E2EBFA;\n",
              "      --hover-fill-color: #174EA6;\n",
              "      --disabled-fill-color: #AAA;\n",
              "      --disabled-bg-color: #DDD;\n",
              "  }\n",
              "\n",
              "  [theme=dark] .colab-df-quickchart {\n",
              "      --bg-color: #3B4455;\n",
              "      --fill-color: #D2E3FC;\n",
              "      --hover-bg-color: #434B5C;\n",
              "      --hover-fill-color: #FFFFFF;\n",
              "      --disabled-bg-color: #3B4455;\n",
              "      --disabled-fill-color: #666;\n",
              "  }\n",
              "\n",
              "  .colab-df-quickchart {\n",
              "    background-color: var(--bg-color);\n",
              "    border: none;\n",
              "    border-radius: 50%;\n",
              "    cursor: pointer;\n",
              "    display: none;\n",
              "    fill: var(--fill-color);\n",
              "    height: 32px;\n",
              "    padding: 0;\n",
              "    width: 32px;\n",
              "  }\n",
              "\n",
              "  .colab-df-quickchart:hover {\n",
              "    background-color: var(--hover-bg-color);\n",
              "    box-shadow: 0 1px 2px rgba(60, 64, 67, 0.3), 0 1px 3px 1px rgba(60, 64, 67, 0.15);\n",
              "    fill: var(--button-hover-fill-color);\n",
              "  }\n",
              "\n",
              "  .colab-df-quickchart-complete:disabled,\n",
              "  .colab-df-quickchart-complete:disabled:hover {\n",
              "    background-color: var(--disabled-bg-color);\n",
              "    fill: var(--disabled-fill-color);\n",
              "    box-shadow: none;\n",
              "  }\n",
              "\n",
              "  .colab-df-spinner {\n",
              "    border: 2px solid var(--fill-color);\n",
              "    border-color: transparent;\n",
              "    border-bottom-color: var(--fill-color);\n",
              "    animation:\n",
              "      spin 1s steps(1) infinite;\n",
              "  }\n",
              "\n",
              "  @keyframes spin {\n",
              "    0% {\n",
              "      border-color: transparent;\n",
              "      border-bottom-color: var(--fill-color);\n",
              "      border-left-color: var(--fill-color);\n",
              "    }\n",
              "    20% {\n",
              "      border-color: transparent;\n",
              "      border-left-color: var(--fill-color);\n",
              "      border-top-color: var(--fill-color);\n",
              "    }\n",
              "    30% {\n",
              "      border-color: transparent;\n",
              "      border-left-color: var(--fill-color);\n",
              "      border-top-color: var(--fill-color);\n",
              "      border-right-color: var(--fill-color);\n",
              "    }\n",
              "    40% {\n",
              "      border-color: transparent;\n",
              "      border-right-color: var(--fill-color);\n",
              "      border-top-color: var(--fill-color);\n",
              "    }\n",
              "    60% {\n",
              "      border-color: transparent;\n",
              "      border-right-color: var(--fill-color);\n",
              "    }\n",
              "    80% {\n",
              "      border-color: transparent;\n",
              "      border-right-color: var(--fill-color);\n",
              "      border-bottom-color: var(--fill-color);\n",
              "    }\n",
              "    90% {\n",
              "      border-color: transparent;\n",
              "      border-bottom-color: var(--fill-color);\n",
              "    }\n",
              "  }\n",
              "</style>\n",
              "\n",
              "  <script>\n",
              "    async function quickchart(key) {\n",
              "      const quickchartButtonEl =\n",
              "        document.querySelector('#' + key + ' button');\n",
              "      quickchartButtonEl.disabled = true;  // To prevent multiple clicks.\n",
              "      quickchartButtonEl.classList.add('colab-df-spinner');\n",
              "      try {\n",
              "        const charts = await google.colab.kernel.invokeFunction(\n",
              "            'suggestCharts', [key], {});\n",
              "      } catch (error) {\n",
              "        console.error('Error during call to suggestCharts:', error);\n",
              "      }\n",
              "      quickchartButtonEl.classList.remove('colab-df-spinner');\n",
              "      quickchartButtonEl.classList.add('colab-df-quickchart-complete');\n",
              "    }\n",
              "    (() => {\n",
              "      let quickchartButtonEl =\n",
              "        document.querySelector('#df-4cab66f4-6620-41ed-b794-b91b1d0c2fa9 button');\n",
              "      quickchartButtonEl.style.display =\n",
              "        google.colab.kernel.accessAllowed ? 'block' : 'none';\n",
              "    })();\n",
              "  </script>\n",
              "</div>\n",
              "\n",
              "    </div>\n",
              "  </div>\n"
            ],
            "application/vnd.google.colaboratory.intrinsic+json": {
              "type": "dataframe",
              "summary": "{\n  \"name\": \"pd\",\n  \"rows\": 5,\n  \"fields\": [\n    {\n      \"column\": 0,\n      \"properties\": {\n        \"dtype\": \"number\",\n        \"std\": 1.11586075356713,\n        \"min\": -1.6169560443108344,\n        \"max\": 0.967446150050235,\n        \"num_unique_values\": 5,\n        \"samples\": [\n          0.967446150050235,\n          -0.1715463312222481,\n          0.8024563957963952\n        ],\n        \"semantic_type\": \"\",\n        \"description\": \"\"\n      }\n    },\n    {\n      \"column\": 1,\n      \"properties\": {\n        \"dtype\": \"number\",\n        \"std\": 1.1484464897452682,\n        \"min\": -1.2266216593966155,\n        \"max\": 1.8675579901499675,\n        \"num_unique_values\": 5,\n        \"samples\": [\n          -1.2266216593966155,\n          0.5232766605317537,\n          -0.2680033709513804\n        ],\n        \"semantic_type\": \"\",\n        \"description\": \"\"\n      }\n    },\n    {\n      \"column\": 2,\n      \"properties\": {\n        \"dtype\": \"number\",\n        \"std\": 1.4841048578332254,\n        \"min\": -1.2928569097234486,\n        \"max\": 1.8675589604265699,\n        \"num_unique_values\": 5,\n        \"samples\": [\n          -0.8174930976162265,\n          -1.2928569097234486,\n          1.8675589604265699\n        ],\n        \"semantic_type\": \"\",\n        \"description\": \"\"\n      }\n    },\n    {\n      \"column\": 3,\n      \"properties\": {\n        \"dtype\": \"number\",\n        \"std\": 0.8764309679618935,\n        \"min\": -1.4013472930393105,\n        \"max\": 0.9060446582753853,\n        \"num_unique_values\": 5,\n        \"samples\": [\n          -1.4013472930393105,\n          0.26705086934918293,\n          0.9060446582753853\n        ],\n        \"semantic_type\": \"\",\n        \"description\": \"\"\n      }\n    },\n    {\n      \"column\": 4,\n      \"properties\": {\n        \"dtype\": \"number\",\n        \"std\": 0.5684268804530184,\n        \"min\": -0.7380309092056887,\n        \"max\": 0.8235041539637314,\n        \"num_unique_values\": 5,\n        \"samples\": [\n          -0.26393734859268786,\n          0.8235041539637314,\n          -0.1550100930908342\n        ],\n        \"semantic_type\": \"\",\n        \"description\": \"\"\n      }\n    },\n    {\n      \"column\": 5,\n      \"properties\": {\n        \"dtype\": \"number\",\n        \"std\": 0.5143486185966555,\n        \"min\": -0.05535254802238957,\n        \"max\": 0.9500884175255894,\n        \"num_unique_values\": 5,\n        \"samples\": [\n          -0.05535254802238957,\n          0.7717905512136674,\n          0.947251967773748\n        ],\n        \"semantic_type\": \"\",\n        \"description\": \"\"\n      }\n    },\n    {\n      \"column\": 6,\n      \"properties\": {\n        \"dtype\": \"number\",\n        \"std\": 0.8655768567774813,\n        \"min\": -0.8612256850547025,\n        \"max\": 1.0996595958871132,\n        \"num_unique_values\": 5,\n        \"samples\": [\n          1.0304382674156047,\n          -0.0392828182274956,\n          -0.8612256850547025\n        ],\n        \"semantic_type\": \"\",\n        \"description\": \"\"\n      }\n    },\n    {\n      \"column\": 7,\n      \"properties\": {\n        \"dtype\": \"number\",\n        \"std\": 0.8779435682424801,\n        \"min\": -0.10321885179355784,\n        \"max\": 2.16323594928069,\n        \"num_unique_values\": 5,\n        \"samples\": [\n          0.35281660649437835,\n          2.16323594928069,\n          0.6140793703460803\n        ],\n        \"semantic_type\": \"\",\n        \"description\": \"\"\n      }\n    },\n    {\n      \"column\": 8,\n      \"properties\": {\n        \"dtype\": \"number\",\n        \"std\": 0.6458709250772927,\n        \"min\": -0.15277442354540868,\n        \"max\": 1.336527949436392,\n        \"num_unique_values\": 5,\n        \"samples\": [\n          -0.15277442354540868,\n          1.336527949436392,\n          0.9222066715665268\n        ],\n        \"semantic_type\": \"\",\n        \"description\": \"\"\n      }\n    },\n    {\n      \"column\": 9,\n      \"properties\": {\n        \"dtype\": \"number\",\n        \"std\": 1.8807688217500935,\n        \"min\": -2.0473236130579617,\n        \"max\": 2.240893199201458,\n        \"num_unique_values\": 5,\n        \"samples\": [\n          -2.0473236130579617,\n          -1.1680934977411974,\n          1.9100649530990337\n        ],\n        \"semantic_type\": \"\",\n        \"description\": \"\"\n      }\n    }\n  ]\n}"
            }
          },
          "metadata": {},
          "execution_count": 81
        }
      ]
    },
    {
      "cell_type": "code",
      "source": [
        "#step 2 : normalise the data\n",
        "def normalise(X):\n",
        "  u= X.mean(axis=0)\n",
        "  std = X.std(axis=0)\n",
        "  X_norm = (X-u)/std\n",
        "  return X_norm"
      ],
      "metadata": {
        "id": "Z2VOdBnrXb4U"
      },
      "execution_count": 82,
      "outputs": []
    },
    {
      "cell_type": "code",
      "source": [
        "normalise(X)\n",
        "pd.DataFrame(X).head()\n",
        "X.std(axis=0)"
      ],
      "metadata": {
        "colab": {
          "base_uri": "https://localhost:8080/"
        },
        "id": "ayaQ17vXX8F4",
        "outputId": "16a2d189-a4ad-4abc-a904-55c8e146490e"
      },
      "execution_count": 83,
      "outputs": [
        {
          "output_type": "execute_result",
          "data": {
            "text/plain": [
              "array([0.98390394, 1.00209533, 0.99304481, 0.95362204, 1.01860381,\n",
              "       0.91807952, 0.99277996, 1.02029591, 0.96972094, 0.98536712])"
            ]
          },
          "metadata": {},
          "execution_count": 83
        }
      ]
    },
    {
      "cell_type": "code",
      "source": [
        "#Visualise y as function of each feature\n",
        "for f in range(0,10):\n",
        "  plt.subplot(4,3,f+1)\n",
        "  plt.scatter(X[:,f] , y)\n",
        "\n",
        "plt.show()"
      ],
      "metadata": {
        "colab": {
          "base_uri": "https://localhost:8080/",
          "height": 430
        },
        "id": "ul-o5XpxYOwR",
        "outputId": "c08037fb-9c9d-4bd3-c4c3-db280f55ae9a"
      },
      "execution_count": 84,
      "outputs": [
        {
          "output_type": "display_data",
          "data": {
            "text/plain": [
              "<Figure size 640x480 with 10 Axes>"
            ],
            "image/png": "[encoded data removed]"
          },
          "metadata": {}
        }
      ]
    },
    {
      "cell_type": "code",
      "source": [
        "#Train Test data\n",
        "XT , Xt, yT, yt = train_test_split(X,y,test_size=0.3,shuffle=False, random_state=0)\n",
        "print(XT.shape , yT.shape)\n",
        "print(Xt.shape , yt.shape)"
      ],
      "metadata": {
        "id": "HsvndqHtZgVo",
        "colab": {
          "base_uri": "https://localhost:8080/"
        },
        "outputId": "d94e6e87-9635-4311-ba89-d3ff5eb0d9a5"
      },
      "execution_count": 85,
      "outputs": [
        {
          "output_type": "stream",
          "name": "stdout",
          "text": [
            "(350, 10) (350,)\n",
            "(150, 10) (150,)\n"
          ]
        }
      ]
    },
    {
      "cell_type": "code",
      "source": [
        "#preprocess X adding a column of 1 on it\n",
        "def preprocess(X):\n",
        "  if X.shape[1]==n_features:\n",
        "     m=X.shape[0]\n",
        "     one=np.ones((m,1))\n",
        "     X=np.hstack((one,X))\n",
        "  return X\n",
        "X=preprocess(X)\n",
        "XT=preprocess(XT)\n",
        "Xt=preprocess(Xt)\n"
      ],
      "metadata": {
        "id": "qVvP0YboKHNC"
      },
      "execution_count": 86,
      "outputs": []
    },
    {
      "cell_type": "code",
      "source": [
        "#hypothesis function\n",
        "def hypothesis (X,theta):\n",
        "  return np.dot(X,theta)"
      ],
      "metadata": {
        "id": "A8g-3JnhaOek"
      },
      "execution_count": 87,
      "outputs": []
    },
    {
      "cell_type": "code",
      "source": [
        "#Loss function\n",
        "def loss(X,y,theta):\n",
        "  yp=hypothesis(X,theta)\n",
        "  error=np.mean((y-yp)**2)\n",
        "  return error"
      ],
      "metadata": {
        "id": "Z3XI_OWqGz3d"
      },
      "execution_count": 88,
      "outputs": []
    },
    {
      "cell_type": "code",
      "source": [
        "#gradient\n",
        "\n",
        "def gradient(X,y,theta):\n",
        "  m=X.shape[0]\n",
        "  yp=hypothesis(X,theta)\n",
        "  grad=np.dot(X.T,(yp-y))\n",
        "  return grad/m"
      ],
      "metadata": {
        "id": "-9EU09GbIFq3"
      },
      "execution_count": 89,
      "outputs": []
    },
    {
      "cell_type": "code",
      "source": [
        "#Traning the model\n",
        "def train(X,y,learning_rate=0.1 , max_iterater=100):\n",
        "  n=X.shape[1]\n",
        "  theta=np.zeros((n))\n",
        "  error_list=[]\n",
        "  for i in range(max_iterater):\n",
        "    error_list.append(loss(X,y,theta))\n",
        "    grad=gradient(X,y,theta)\n",
        "    theta=theta-learning_rate*grad\n",
        "    plt.plot(error_list)\n",
        "  return theta"
      ],
      "metadata": {
        "id": "VxZJl091I2cE"
      },
      "execution_count": 90,
      "outputs": []
    },
    {
      "cell_type": "code",
      "source": [
        "theta=train(XT,yT)\n",
        "print(theta)"
      ],
      "metadata": {
        "colab": {
          "base_uri": "https://localhost:8080/",
          "height": 465
        },
        "id": "GY0bokOZLV-D",
        "outputId": "0a4f7242-059e-4262-f586-c593e6df7be3"
      },
      "execution_count": 91,
      "outputs": [
        {
          "output_type": "stream",
          "name": "stdout",
          "text": [
            "[-2.02618568 29.6740938  59.38408714 11.86289942 66.40368987 54.89035249\n",
            " 52.64137307 41.7613686  55.35847758  3.18518922 26.50405351]\n"
          ]
        },
        {
          "output_type": "display_data",
          "data": {
            "text/plain": [
              "<Figure size 640x480 with 1 Axes>"
            ],
            "image/png": "[encoded data removed]"
          },
          "metadata": {}
        }
      ]
    },
    {
      "cell_type": "code",
      "source": [
        "print(theta.shape)"
      ],
      "metadata": {
        "colab": {
          "base_uri": "https://localhost:8080/"
        },
        "id": "rCqWe9GuM0cW",
        "outputId": "d92d6bfc-e3ed-453a-f542-178341b8ab5b"
      },
      "execution_count": 92,
      "outputs": [
        {
          "output_type": "stream",
          "name": "stdout",
          "text": [
            "(11,)\n"
          ]
        }
      ]
    },
    {
      "cell_type": "code",
      "source": [
        "def predic(X,theta):\n",
        "  return hypothesis(X,theta)"
      ],
      "metadata": {
        "id": "zy_RUkJGNjCy"
      },
      "execution_count": 93,
      "outputs": []
    },
    {
      "cell_type": "code",
      "source": [
        "predication=predic(Xt,theta)"
      ],
      "metadata": {
        "id": "csg-07i4Owk5"
      },
      "execution_count": 94,
      "outputs": []
    },
    {
      "cell_type": "code",
      "source": [
        "#checking how accurate our model is\n",
        "def r2Score(y,y_pred):\n",
        "  mean_y=np.mean(y)\n",
        "  num=np.sum((y-y_pred)**2)\n",
        "  den=np.sum((y-mean_y)**2)\n",
        "  score=1-(num/den)\n",
        "  return score"
      ],
      "metadata": {
        "id": "zUr5g8tYO0xz"
      },
      "execution_count": 95,
      "outputs": []
    },
    {
      "cell_type": "code",
      "source": [
        "r2Score(yt,predication)"
      ],
      "metadata": {
        "colab": {
          "base_uri": "https://localhost:8080/"
        },
        "id": "KhOcisTePPBH",
        "outputId": "88796994-06dc-47f9-8b1b-92fdb52b5f69"
      },
      "execution_count": 96,
      "outputs": [
        {
          "output_type": "execute_result",
          "data": {
            "text/plain": [
              "0.970035560492667"
            ]
          },
          "metadata": {},
          "execution_count": 96
        }
      ]
    },
    {
      "cell_type": "code",
      "source": [],
      "metadata": {
        "id": "1RXSwafNPZ94"
      },
      "execution_count": 96,
      "outputs": []
    }
  ],
  "metadata": {
    "colab": {
      "toc_visible": true,
      "provenance": []
    },
    "kernelspec": {
      "display_name": "Python 3",
      "name": "python3"
    }
  },
  "nbformat": 4,
  "nbformat_minor": 0
}